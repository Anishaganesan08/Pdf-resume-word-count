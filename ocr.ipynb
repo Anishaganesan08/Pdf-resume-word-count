{
 "cells": [
  {
   "cell_type": "code",
   "execution_count": 1,
   "id": "770ba1a8",
   "metadata": {},
   "outputs": [
    {
     "ename": "TesseractNotFoundError",
     "evalue": "tesseract is not installed or it's not in your PATH. See README file for more information.",
     "output_type": "error",
     "traceback": [
      "\u001b[0;31m---------------------------------------------------------------------------\u001b[0m",
      "\u001b[0;31mFileNotFoundError\u001b[0m                         Traceback (most recent call last)",
      "File \u001b[0;32m/usr/local/lib/python3.10/dist-packages/pytesseract/pytesseract.py:255\u001b[0m, in \u001b[0;36mrun_tesseract\u001b[0;34m(input_filename, output_filename_base, extension, lang, config, nice, timeout)\u001b[0m\n\u001b[1;32m    254\u001b[0m \u001b[38;5;28;01mtry\u001b[39;00m:\n\u001b[0;32m--> 255\u001b[0m     proc \u001b[38;5;241m=\u001b[39m \u001b[43msubprocess\u001b[49m\u001b[38;5;241;43m.\u001b[39;49m\u001b[43mPopen\u001b[49m\u001b[43m(\u001b[49m\u001b[43mcmd_args\u001b[49m\u001b[43m,\u001b[49m\u001b[43m \u001b[49m\u001b[38;5;241;43m*\u001b[39;49m\u001b[38;5;241;43m*\u001b[39;49m\u001b[43msubprocess_args\u001b[49m\u001b[43m(\u001b[49m\u001b[43m)\u001b[49m\u001b[43m)\u001b[49m\n\u001b[1;32m    256\u001b[0m \u001b[38;5;28;01mexcept\u001b[39;00m \u001b[38;5;167;01mOSError\u001b[39;00m \u001b[38;5;28;01mas\u001b[39;00m e:\n",
      "File \u001b[0;32m/usr/lib/python3.10/subprocess.py:969\u001b[0m, in \u001b[0;36mPopen.__init__\u001b[0;34m(self, args, bufsize, executable, stdin, stdout, stderr, preexec_fn, close_fds, shell, cwd, env, universal_newlines, startupinfo, creationflags, restore_signals, start_new_session, pass_fds, user, group, extra_groups, encoding, errors, text, umask, pipesize)\u001b[0m\n\u001b[1;32m    966\u001b[0m             \u001b[38;5;28mself\u001b[39m\u001b[38;5;241m.\u001b[39mstderr \u001b[38;5;241m=\u001b[39m io\u001b[38;5;241m.\u001b[39mTextIOWrapper(\u001b[38;5;28mself\u001b[39m\u001b[38;5;241m.\u001b[39mstderr,\n\u001b[1;32m    967\u001b[0m                     encoding\u001b[38;5;241m=\u001b[39mencoding, errors\u001b[38;5;241m=\u001b[39merrors)\n\u001b[0;32m--> 969\u001b[0m     \u001b[38;5;28;43mself\u001b[39;49m\u001b[38;5;241;43m.\u001b[39;49m\u001b[43m_execute_child\u001b[49m\u001b[43m(\u001b[49m\u001b[43margs\u001b[49m\u001b[43m,\u001b[49m\u001b[43m \u001b[49m\u001b[43mexecutable\u001b[49m\u001b[43m,\u001b[49m\u001b[43m \u001b[49m\u001b[43mpreexec_fn\u001b[49m\u001b[43m,\u001b[49m\u001b[43m \u001b[49m\u001b[43mclose_fds\u001b[49m\u001b[43m,\u001b[49m\n\u001b[1;32m    970\u001b[0m \u001b[43m                        \u001b[49m\u001b[43mpass_fds\u001b[49m\u001b[43m,\u001b[49m\u001b[43m \u001b[49m\u001b[43mcwd\u001b[49m\u001b[43m,\u001b[49m\u001b[43m \u001b[49m\u001b[43menv\u001b[49m\u001b[43m,\u001b[49m\n\u001b[1;32m    971\u001b[0m \u001b[43m                        \u001b[49m\u001b[43mstartupinfo\u001b[49m\u001b[43m,\u001b[49m\u001b[43m \u001b[49m\u001b[43mcreationflags\u001b[49m\u001b[43m,\u001b[49m\u001b[43m \u001b[49m\u001b[43mshell\u001b[49m\u001b[43m,\u001b[49m\n\u001b[1;32m    972\u001b[0m \u001b[43m                        \u001b[49m\u001b[43mp2cread\u001b[49m\u001b[43m,\u001b[49m\u001b[43m \u001b[49m\u001b[43mp2cwrite\u001b[49m\u001b[43m,\u001b[49m\n\u001b[1;32m    973\u001b[0m \u001b[43m                        \u001b[49m\u001b[43mc2pread\u001b[49m\u001b[43m,\u001b[49m\u001b[43m \u001b[49m\u001b[43mc2pwrite\u001b[49m\u001b[43m,\u001b[49m\n\u001b[1;32m    974\u001b[0m \u001b[43m                        \u001b[49m\u001b[43merrread\u001b[49m\u001b[43m,\u001b[49m\u001b[43m \u001b[49m\u001b[43merrwrite\u001b[49m\u001b[43m,\u001b[49m\n\u001b[1;32m    975\u001b[0m \u001b[43m                        \u001b[49m\u001b[43mrestore_signals\u001b[49m\u001b[43m,\u001b[49m\n\u001b[1;32m    976\u001b[0m \u001b[43m                        \u001b[49m\u001b[43mgid\u001b[49m\u001b[43m,\u001b[49m\u001b[43m \u001b[49m\u001b[43mgids\u001b[49m\u001b[43m,\u001b[49m\u001b[43m \u001b[49m\u001b[43muid\u001b[49m\u001b[43m,\u001b[49m\u001b[43m \u001b[49m\u001b[43mumask\u001b[49m\u001b[43m,\u001b[49m\n\u001b[1;32m    977\u001b[0m \u001b[43m                        \u001b[49m\u001b[43mstart_new_session\u001b[49m\u001b[43m)\u001b[49m\n\u001b[1;32m    978\u001b[0m \u001b[38;5;28;01mexcept\u001b[39;00m:\n\u001b[1;32m    979\u001b[0m     \u001b[38;5;66;03m# Cleanup if the child failed starting.\u001b[39;00m\n",
      "File \u001b[0;32m/usr/lib/python3.10/subprocess.py:1845\u001b[0m, in \u001b[0;36mPopen._execute_child\u001b[0;34m(self, args, executable, preexec_fn, close_fds, pass_fds, cwd, env, startupinfo, creationflags, shell, p2cread, p2cwrite, c2pread, c2pwrite, errread, errwrite, restore_signals, gid, gids, uid, umask, start_new_session)\u001b[0m\n\u001b[1;32m   1844\u001b[0m         err_msg \u001b[38;5;241m=\u001b[39m os\u001b[38;5;241m.\u001b[39mstrerror(errno_num)\n\u001b[0;32m-> 1845\u001b[0m     \u001b[38;5;28;01mraise\u001b[39;00m child_exception_type(errno_num, err_msg, err_filename)\n\u001b[1;32m   1846\u001b[0m \u001b[38;5;28;01mraise\u001b[39;00m child_exception_type(err_msg)\n",
      "\u001b[0;31mFileNotFoundError\u001b[0m: [Errno 2] No such file or directory: 'tesseract'",
      "\nDuring handling of the above exception, another exception occurred:\n",
      "\u001b[0;31mTesseractNotFoundError\u001b[0m                    Traceback (most recent call last)",
      "Cell \u001b[0;32mIn[1], line 14\u001b[0m\n\u001b[1;32m     11\u001b[0m         \u001b[38;5;28;01mreturn\u001b[39;00m ocr_text\n\u001b[1;32m     13\u001b[0m file_name\u001b[38;5;241m=\u001b[39m\u001b[38;5;124m\"\u001b[39m\u001b[38;5;124m/media/anisha.png\u001b[39m\u001b[38;5;124m\"\u001b[39m\n\u001b[0;32m---> 14\u001b[0m result\u001b[38;5;241m=\u001b[39m\u001b[43mocr_from_image\u001b[49m\u001b[43m(\u001b[49m\u001b[43mfile_name\u001b[49m\u001b[43m)\u001b[49m\n\u001b[1;32m     15\u001b[0m \u001b[38;5;28mprint\u001b[39m(result)\n",
      "Cell \u001b[0;32mIn[1], line 8\u001b[0m, in \u001b[0;36mocr_from_image\u001b[0;34m(file_name)\u001b[0m\n\u001b[1;32m      5\u001b[0m image\u001b[38;5;241m=\u001b[39mImage\u001b[38;5;241m.\u001b[39mopen(file_name)\n\u001b[1;32m      7\u001b[0m \u001b[38;5;66;03m#perform OCR using pytesseract\u001b[39;00m\n\u001b[0;32m----> 8\u001b[0m ocr_text\u001b[38;5;241m=\u001b[39m \u001b[43mpytesseract\u001b[49m\u001b[38;5;241;43m.\u001b[39;49m\u001b[43mimage_to_string\u001b[49m\u001b[43m(\u001b[49m\u001b[43mimage\u001b[49m\u001b[43m)\u001b[49m\n\u001b[1;32m     10\u001b[0m \u001b[38;5;66;03m#return ocr text\u001b[39;00m\n\u001b[1;32m     11\u001b[0m \u001b[38;5;28;01mreturn\u001b[39;00m ocr_text\n",
      "File \u001b[0;32m/usr/local/lib/python3.10/dist-packages/pytesseract/pytesseract.py:423\u001b[0m, in \u001b[0;36mimage_to_string\u001b[0;34m(image, lang, config, nice, output_type, timeout)\u001b[0m\n\u001b[1;32m    418\u001b[0m \u001b[38;5;250m\u001b[39m\u001b[38;5;124;03m\"\"\"\u001b[39;00m\n\u001b[1;32m    419\u001b[0m \u001b[38;5;124;03mReturns the result of a Tesseract OCR run on the provided image to string\u001b[39;00m\n\u001b[1;32m    420\u001b[0m \u001b[38;5;124;03m\"\"\"\u001b[39;00m\n\u001b[1;32m    421\u001b[0m args \u001b[38;5;241m=\u001b[39m [image, \u001b[38;5;124m'\u001b[39m\u001b[38;5;124mtxt\u001b[39m\u001b[38;5;124m'\u001b[39m, lang, config, nice, timeout]\n\u001b[0;32m--> 423\u001b[0m \u001b[38;5;28;01mreturn\u001b[39;00m \u001b[43m{\u001b[49m\n\u001b[1;32m    424\u001b[0m \u001b[43m    \u001b[49m\u001b[43mOutput\u001b[49m\u001b[38;5;241;43m.\u001b[39;49m\u001b[43mBYTES\u001b[49m\u001b[43m:\u001b[49m\u001b[43m \u001b[49m\u001b[38;5;28;43;01mlambda\u001b[39;49;00m\u001b[43m:\u001b[49m\u001b[43m \u001b[49m\u001b[43mrun_and_get_output\u001b[49m\u001b[43m(\u001b[49m\u001b[38;5;241;43m*\u001b[39;49m\u001b[43m(\u001b[49m\u001b[43margs\u001b[49m\u001b[43m \u001b[49m\u001b[38;5;241;43m+\u001b[39;49m\u001b[43m \u001b[49m\u001b[43m[\u001b[49m\u001b[38;5;28;43;01mTrue\u001b[39;49;00m\u001b[43m]\u001b[49m\u001b[43m)\u001b[49m\u001b[43m)\u001b[49m\u001b[43m,\u001b[49m\n\u001b[1;32m    425\u001b[0m \u001b[43m    \u001b[49m\u001b[43mOutput\u001b[49m\u001b[38;5;241;43m.\u001b[39;49m\u001b[43mDICT\u001b[49m\u001b[43m:\u001b[49m\u001b[43m \u001b[49m\u001b[38;5;28;43;01mlambda\u001b[39;49;00m\u001b[43m:\u001b[49m\u001b[43m \u001b[49m\u001b[43m{\u001b[49m\u001b[38;5;124;43m'\u001b[39;49m\u001b[38;5;124;43mtext\u001b[39;49m\u001b[38;5;124;43m'\u001b[39;49m\u001b[43m:\u001b[49m\u001b[43m \u001b[49m\u001b[43mrun_and_get_output\u001b[49m\u001b[43m(\u001b[49m\u001b[38;5;241;43m*\u001b[39;49m\u001b[43margs\u001b[49m\u001b[43m)\u001b[49m\u001b[43m}\u001b[49m\u001b[43m,\u001b[49m\n\u001b[1;32m    426\u001b[0m \u001b[43m    \u001b[49m\u001b[43mOutput\u001b[49m\u001b[38;5;241;43m.\u001b[39;49m\u001b[43mSTRING\u001b[49m\u001b[43m:\u001b[49m\u001b[43m \u001b[49m\u001b[38;5;28;43;01mlambda\u001b[39;49;00m\u001b[43m:\u001b[49m\u001b[43m \u001b[49m\u001b[43mrun_and_get_output\u001b[49m\u001b[43m(\u001b[49m\u001b[38;5;241;43m*\u001b[39;49m\u001b[43margs\u001b[49m\u001b[43m)\u001b[49m\u001b[43m,\u001b[49m\n\u001b[1;32m    427\u001b[0m \u001b[43m\u001b[49m\u001b[43m}\u001b[49m\u001b[43m[\u001b[49m\u001b[43moutput_type\u001b[49m\u001b[43m]\u001b[49m\u001b[43m(\u001b[49m\u001b[43m)\u001b[49m\n",
      "File \u001b[0;32m/usr/local/lib/python3.10/dist-packages/pytesseract/pytesseract.py:426\u001b[0m, in \u001b[0;36mimage_to_string.<locals>.<lambda>\u001b[0;34m()\u001b[0m\n\u001b[1;32m    418\u001b[0m \u001b[38;5;250m\u001b[39m\u001b[38;5;124;03m\"\"\"\u001b[39;00m\n\u001b[1;32m    419\u001b[0m \u001b[38;5;124;03mReturns the result of a Tesseract OCR run on the provided image to string\u001b[39;00m\n\u001b[1;32m    420\u001b[0m \u001b[38;5;124;03m\"\"\"\u001b[39;00m\n\u001b[1;32m    421\u001b[0m args \u001b[38;5;241m=\u001b[39m [image, \u001b[38;5;124m'\u001b[39m\u001b[38;5;124mtxt\u001b[39m\u001b[38;5;124m'\u001b[39m, lang, config, nice, timeout]\n\u001b[1;32m    423\u001b[0m \u001b[38;5;28;01mreturn\u001b[39;00m {\n\u001b[1;32m    424\u001b[0m     Output\u001b[38;5;241m.\u001b[39mBYTES: \u001b[38;5;28;01mlambda\u001b[39;00m: run_and_get_output(\u001b[38;5;241m*\u001b[39m(args \u001b[38;5;241m+\u001b[39m [\u001b[38;5;28;01mTrue\u001b[39;00m])),\n\u001b[1;32m    425\u001b[0m     Output\u001b[38;5;241m.\u001b[39mDICT: \u001b[38;5;28;01mlambda\u001b[39;00m: {\u001b[38;5;124m'\u001b[39m\u001b[38;5;124mtext\u001b[39m\u001b[38;5;124m'\u001b[39m: run_and_get_output(\u001b[38;5;241m*\u001b[39margs)},\n\u001b[0;32m--> 426\u001b[0m     Output\u001b[38;5;241m.\u001b[39mSTRING: \u001b[38;5;28;01mlambda\u001b[39;00m: \u001b[43mrun_and_get_output\u001b[49m\u001b[43m(\u001b[49m\u001b[38;5;241;43m*\u001b[39;49m\u001b[43margs\u001b[49m\u001b[43m)\u001b[49m,\n\u001b[1;32m    427\u001b[0m }[output_type]()\n",
      "File \u001b[0;32m/usr/local/lib/python3.10/dist-packages/pytesseract/pytesseract.py:288\u001b[0m, in \u001b[0;36mrun_and_get_output\u001b[0;34m(image, extension, lang, config, nice, timeout, return_bytes)\u001b[0m\n\u001b[1;32m    277\u001b[0m \u001b[38;5;28;01mwith\u001b[39;00m save(image) \u001b[38;5;28;01mas\u001b[39;00m (temp_name, input_filename):\n\u001b[1;32m    278\u001b[0m     kwargs \u001b[38;5;241m=\u001b[39m {\n\u001b[1;32m    279\u001b[0m         \u001b[38;5;124m'\u001b[39m\u001b[38;5;124minput_filename\u001b[39m\u001b[38;5;124m'\u001b[39m: input_filename,\n\u001b[1;32m    280\u001b[0m         \u001b[38;5;124m'\u001b[39m\u001b[38;5;124moutput_filename_base\u001b[39m\u001b[38;5;124m'\u001b[39m: temp_name,\n\u001b[0;32m   (...)\u001b[0m\n\u001b[1;32m    285\u001b[0m         \u001b[38;5;124m'\u001b[39m\u001b[38;5;124mtimeout\u001b[39m\u001b[38;5;124m'\u001b[39m: timeout,\n\u001b[1;32m    286\u001b[0m     }\n\u001b[0;32m--> 288\u001b[0m     \u001b[43mrun_tesseract\u001b[49m\u001b[43m(\u001b[49m\u001b[38;5;241;43m*\u001b[39;49m\u001b[38;5;241;43m*\u001b[39;49m\u001b[43mkwargs\u001b[49m\u001b[43m)\u001b[49m\n\u001b[1;32m    289\u001b[0m     filename \u001b[38;5;241m=\u001b[39m \u001b[38;5;124mf\u001b[39m\u001b[38;5;124m\"\u001b[39m\u001b[38;5;132;01m{\u001b[39;00mkwargs[\u001b[38;5;124m'\u001b[39m\u001b[38;5;124moutput_filename_base\u001b[39m\u001b[38;5;124m'\u001b[39m]\u001b[38;5;132;01m}\u001b[39;00m\u001b[38;5;132;01m{\u001b[39;00mextsep\u001b[38;5;132;01m}\u001b[39;00m\u001b[38;5;132;01m{\u001b[39;00mextension\u001b[38;5;132;01m}\u001b[39;00m\u001b[38;5;124m\"\u001b[39m\n\u001b[1;32m    290\u001b[0m     \u001b[38;5;28;01mwith\u001b[39;00m \u001b[38;5;28mopen\u001b[39m(filename, \u001b[38;5;124m'\u001b[39m\u001b[38;5;124mrb\u001b[39m\u001b[38;5;124m'\u001b[39m) \u001b[38;5;28;01mas\u001b[39;00m output_file:\n",
      "File \u001b[0;32m/usr/local/lib/python3.10/dist-packages/pytesseract/pytesseract.py:260\u001b[0m, in \u001b[0;36mrun_tesseract\u001b[0;34m(input_filename, output_filename_base, extension, lang, config, nice, timeout)\u001b[0m\n\u001b[1;32m    258\u001b[0m         \u001b[38;5;28;01mraise\u001b[39;00m\n\u001b[1;32m    259\u001b[0m     \u001b[38;5;28;01melse\u001b[39;00m:\n\u001b[0;32m--> 260\u001b[0m         \u001b[38;5;28;01mraise\u001b[39;00m TesseractNotFoundError()\n\u001b[1;32m    262\u001b[0m \u001b[38;5;28;01mwith\u001b[39;00m timeout_manager(proc, timeout) \u001b[38;5;28;01mas\u001b[39;00m error_string:\n\u001b[1;32m    263\u001b[0m     \u001b[38;5;28;01mif\u001b[39;00m proc\u001b[38;5;241m.\u001b[39mreturncode:\n",
      "\u001b[0;31mTesseractNotFoundError\u001b[0m: tesseract is not installed or it's not in your PATH. See README file for more information."
     ]
    }
   ],
   "source": [
    "import pytesseract\n",
    "from PIL import Image\n",
    "def ocr_from_image(file_name):\n",
    "        #open the image file\n",
    "        image=Image.open(file_name)\n",
    "\n",
    "        #perform OCR using pytesseract\n",
    "        ocr_text= pytesseract.image_to_string(image)\n",
    "\n",
    "        #return ocr text\n",
    "        return ocr_text\n",
    "    \n",
    "file_name=\"/media/anisha.png\"\n",
    "result=ocr_from_image(file_name)\n",
    "print(result)"
   ]
  },
  {
   "cell_type": "code",
   "execution_count": 2,
   "id": "2cbf9952",
   "metadata": {},
   "outputs": [
    {
     "ename": "SyntaxError",
     "evalue": "invalid syntax (2403956225.py, line 1)",
     "output_type": "error",
     "traceback": [
      "\u001b[0;36m  Cell \u001b[0;32mIn[2], line 1\u001b[0;36m\u001b[0m\n\u001b[0;31m    brew install tesseract\u001b[0m\n\u001b[0m         ^\u001b[0m\n\u001b[0;31mSyntaxError\u001b[0m\u001b[0;31m:\u001b[0m invalid syntax\n"
     ]
    }
   ],
   "source": [
    "brew install tesseract"
   ]
  },
  {
   "cell_type": "code",
   "execution_count": 3,
   "id": "708732c8",
   "metadata": {},
   "outputs": [
    {
     "name": "stdout",
     "output_type": "stream",
     "text": [
      "/usr/bin/sh: 1: brew: not found\r\n"
     ]
    }
   ],
   "source": [
    "!brew intall tesseract"
   ]
  },
  {
   "cell_type": "code",
   "execution_count": 4,
   "id": "37a4e459",
   "metadata": {},
   "outputs": [
    {
     "name": "stdout",
     "output_type": "stream",
     "text": [
      "/usr/bin/sh: 1: brew: not found\r\n"
     ]
    }
   ],
   "source": [
    "!brew install tesseract"
   ]
  },
  {
   "cell_type": "code",
   "execution_count": 5,
   "id": "1e3b1639",
   "metadata": {},
   "outputs": [
    {
     "name": "stdout",
     "output_type": "stream",
     "text": [
      "/usr/bin/sh: 1: brew: not found\r\n"
     ]
    }
   ],
   "source": [
    "!brew install tesseract-lang"
   ]
  },
  {
   "cell_type": "code",
   "execution_count": 6,
   "id": "10ef23ae",
   "metadata": {},
   "outputs": [
    {
     "name": "stdout",
     "output_type": "stream",
     "text": [
      "Hit:1 http://ports.ubuntu.com/ubuntu-ports jammy InRelease\n",
      "Get:2 http://ports.ubuntu.com/ubuntu-ports jammy-updates InRelease [119 kB]\n",
      "Get:3 http://ports.ubuntu.com/ubuntu-ports jammy-backports InRelease [108 kB]\n",
      "Get:4 http://ports.ubuntu.com/ubuntu-ports jammy-security InRelease [110 kB]\n",
      "Get:5 http://ports.ubuntu.com/ubuntu-ports jammy-updates/multiverse arm64 Packages [27.8 kB]\n",
      "Get:6 http://ports.ubuntu.com/ubuntu-ports jammy-updates/universe arm64 Packages [1080 kB]\n",
      "Get:7 http://ports.ubuntu.com/ubuntu-ports jammy-updates/main arm64 Packages [908 kB]\n",
      "Get:8 http://ports.ubuntu.com/ubuntu-ports jammy-updates/restricted arm64 Packages [419 kB]\n",
      "Get:9 http://ports.ubuntu.com/ubuntu-ports jammy-security/main arm64 Packages [632 kB]\n",
      "Get:10 http://ports.ubuntu.com/ubuntu-ports jammy-security/multiverse arm64 Packages [23.4 kB]\n",
      "Get:11 http://ports.ubuntu.com/ubuntu-ports jammy-security/restricted arm64 Packages [418 kB]\n",
      "Fetched 3846 kB in 3s (1149 kB/s)                          \n",
      "Reading package lists... Done\n"
     ]
    }
   ],
   "source": [
    "!apt-get update"
   ]
  },
  {
   "cell_type": "code",
   "execution_count": 7,
   "id": "2817b107",
   "metadata": {},
   "outputs": [
    {
     "name": "stdout",
     "output_type": "stream",
     "text": [
      "Reading package lists... Done\n",
      "Building dependency tree... Done\n",
      "Reading state information... Done\n",
      "The following additional packages will be installed:\n",
      "  fontconfig libarchive13 libcairo2 libdatrie1 libfribidi0 libgif7\n",
      "  libglib2.0-0 libglib2.0-data libgraphite2-3 libharfbuzz0b libicu70 liblept5\n",
      "  libopenjp2-7 libpango-1.0-0 libpangocairo-1.0-0 libpangoft2-1.0-0\n",
      "  libpixman-1-0 libtesseract4 libthai-data libthai0 libwebpmux3 libxcb-render0\n",
      "  libxcb-shm0 libxext6 libxml2 libxrender1 shared-mime-info tesseract-ocr-eng\n",
      "  tesseract-ocr-osd xdg-user-dirs\n",
      "Suggested packages:\n",
      "  lrzip\n",
      "The following NEW packages will be installed:\n",
      "  fontconfig libarchive13 libcairo2 libdatrie1 libfribidi0 libgif7\n",
      "  libglib2.0-0 libglib2.0-data libgraphite2-3 libharfbuzz0b libicu70 liblept5\n",
      "  libopenjp2-7 libpango-1.0-0 libpangocairo-1.0-0 libpangoft2-1.0-0\n",
      "  libpixman-1-0 libtesseract4 libthai-data libthai0 libwebpmux3 libxcb-render0\n",
      "  libxcb-shm0 libxext6 libxml2 libxrender1 shared-mime-info tesseract-ocr\n",
      "  tesseract-ocr-eng tesseract-ocr-osd xdg-user-dirs\n",
      "0 upgraded, 31 newly installed, 0 to remove and 0 not upgraded.\n",
      "Need to get 22.9 MB of archives.\n",
      "After this operation, 73.0 MB of additional disk space will be used.\n",
      "Get:1 http://ports.ubuntu.com/ubuntu-ports jammy-updates/main arm64 libfribidi0 arm64 1.0.8-2ubuntu3.1 [26.4 kB]\n",
      "Get:2 http://ports.ubuntu.com/ubuntu-ports jammy-updates/main arm64 libglib2.0-0 arm64 2.72.4-0ubuntu2.2 [1432 kB]\n",
      "Get:3 http://ports.ubuntu.com/ubuntu-ports jammy-updates/main arm64 libglib2.0-data all 2.72.4-0ubuntu2.2 [4612 B]\n",
      "Get:4 http://ports.ubuntu.com/ubuntu-ports jammy/main arm64 libicu70 arm64 70.1-2 [10.5 MB]\n",
      "Get:5 http://ports.ubuntu.com/ubuntu-ports jammy-updates/main arm64 libxml2 arm64 2.9.13+dfsg-1ubuntu0.3 [728 kB]\n",
      "Get:6 http://ports.ubuntu.com/ubuntu-ports jammy/main arm64 shared-mime-info arm64 2.1-2 [453 kB]\n",
      "Get:7 http://ports.ubuntu.com/ubuntu-ports jammy/main arm64 xdg-user-dirs arm64 0.17-2ubuntu4 [53.5 kB]\n",
      "Get:8 http://ports.ubuntu.com/ubuntu-ports jammy/main arm64 libxext6 arm64 2:1.3.4-1build1 [31.1 kB]\n",
      "Get:9 http://ports.ubuntu.com/ubuntu-ports jammy/main arm64 fontconfig arm64 2.13.1-4.2ubuntu5 [183 kB]\n",
      "Get:10 http://ports.ubuntu.com/ubuntu-ports jammy/main arm64 libarchive13 arm64 3.6.0-1ubuntu1 [367 kB]\n",
      "Get:11 http://ports.ubuntu.com/ubuntu-ports jammy-updates/main arm64 libpixman-1-0 arm64 0.40.0-1ubuntu0.22.04.1 [160 kB]\n",
      "Get:12 http://ports.ubuntu.com/ubuntu-ports jammy/main arm64 libxcb-render0 arm64 1.14-3ubuntu3 [16.2 kB]\n",
      "Get:13 http://ports.ubuntu.com/ubuntu-ports jammy/main arm64 libxcb-shm0 arm64 1.14-3ubuntu3 [5848 B]\n",
      "Get:14 http://ports.ubuntu.com/ubuntu-ports jammy/main arm64 libxrender1 arm64 1:0.9.10-1build4 [18.8 kB]\n",
      "Get:15 http://ports.ubuntu.com/ubuntu-ports jammy/main arm64 libcairo2 arm64 1.16.0-5ubuntu2 [613 kB]\n",
      "Get:16 http://ports.ubuntu.com/ubuntu-ports jammy/main arm64 libdatrie1 arm64 0.2.13-2 [19.8 kB]\n",
      "Get:17 http://ports.ubuntu.com/ubuntu-ports jammy/main arm64 libgif7 arm64 5.1.9-2build2 [34.1 kB]\n",
      "Get:18 http://ports.ubuntu.com/ubuntu-ports jammy/main arm64 libgraphite2-3 arm64 1.3.14-1build2 [68.9 kB]\n",
      "Get:19 http://ports.ubuntu.com/ubuntu-ports jammy-updates/main arm64 libharfbuzz0b arm64 2.7.4-1ubuntu3.1 [353 kB]\n",
      "Get:20 http://ports.ubuntu.com/ubuntu-ports jammy/main arm64 libopenjp2-7 arm64 2.4.0-6 [155 kB]\n",
      "Get:21 http://ports.ubuntu.com/ubuntu-ports jammy-updates/main arm64 libwebpmux3 arm64 1.2.2-2ubuntu0.22.04.1 [20.6 kB]\n",
      "Get:22 http://ports.ubuntu.com/ubuntu-ports jammy/universe arm64 liblept5 arm64 1.82.0-3build1 [1105 kB]\n",
      "Get:23 http://ports.ubuntu.com/ubuntu-ports jammy/main arm64 libthai-data all 0.1.29-1build1 [162 kB]\n",
      "Get:24 http://ports.ubuntu.com/ubuntu-ports jammy/main arm64 libthai0 arm64 0.1.29-1build1 [18.4 kB]\n",
      "Get:25 http://ports.ubuntu.com/ubuntu-ports jammy-updates/main arm64 libpango-1.0-0 arm64 1.50.6+ds-2ubuntu1 [225 kB]\n",
      "Get:26 http://ports.ubuntu.com/ubuntu-ports jammy-updates/main arm64 libpangoft2-1.0-0 arm64 1.50.6+ds-2ubuntu1 [52.0 kB]\n",
      "Get:27 http://ports.ubuntu.com/ubuntu-ports jammy-updates/main arm64 libpangocairo-1.0-0 arm64 1.50.6+ds-2ubuntu1 [37.8 kB]\n",
      "Get:28 http://ports.ubuntu.com/ubuntu-ports jammy/universe arm64 libtesseract4 arm64 4.1.1-2.1build1 [1244 kB]\n",
      "Get:29 http://ports.ubuntu.com/ubuntu-ports jammy/universe arm64 tesseract-ocr-eng all 1:4.00~git30-7274cfa-1.1 [1591 kB]\n",
      "Get:30 http://ports.ubuntu.com/ubuntu-ports jammy/universe arm64 tesseract-ocr-osd all 1:4.00~git30-7274cfa-1.1 [2990 kB]\n",
      "Get:31 http://ports.ubuntu.com/ubuntu-ports jammy/universe arm64 tesseract-ocr arm64 4.1.1-2.1build1 [224 kB]\n",
      "Fetched 22.9 MB in 7s (3265 kB/s)                                              \n",
      "debconf: delaying package configuration, since apt-utils is not installed\n",
      "Selecting previously unselected package libfribidi0:arm64.\n",
      "(Reading database ... 16208 files and directories currently installed.)\n",
      "Preparing to unpack .../00-libfribidi0_1.0.8-2ubuntu3.1_arm64.deb ...\n",
      "Unpacking libfribidi0:arm64 (1.0.8-2ubuntu3.1) ...\n",
      "Selecting previously unselected package libglib2.0-0:arm64.\n",
      "Preparing to unpack .../01-libglib2.0-0_2.72.4-0ubuntu2.2_arm64.deb ...\n",
      "Unpacking libglib2.0-0:arm64 (2.72.4-0ubuntu2.2) ...\n",
      "Selecting previously unselected package libglib2.0-data.\n",
      "Preparing to unpack .../02-libglib2.0-data_2.72.4-0ubuntu2.2_all.deb ...\n",
      "Unpacking libglib2.0-data (2.72.4-0ubuntu2.2) ...\n",
      "Selecting previously unselected package libicu70:arm64.\n",
      "Preparing to unpack .../03-libicu70_70.1-2_arm64.deb ...\n",
      "Unpacking libicu70:arm64 (70.1-2) ...\n",
      "Selecting previously unselected package libxml2:arm64.\n",
      "Preparing to unpack .../04-libxml2_2.9.13+dfsg-1ubuntu0.3_arm64.deb ...\n",
      "Unpacking libxml2:arm64 (2.9.13+dfsg-1ubuntu0.3) ...\n",
      "Selecting previously unselected package shared-mime-info.\n",
      "Preparing to unpack .../05-shared-mime-info_2.1-2_arm64.deb ...\n",
      "Unpacking shared-mime-info (2.1-2) ...\n",
      "Selecting previously unselected package xdg-user-dirs.\n",
      "Preparing to unpack .../06-xdg-user-dirs_0.17-2ubuntu4_arm64.deb ...\n",
      "Unpacking xdg-user-dirs (0.17-2ubuntu4) ...\n",
      "Selecting previously unselected package libxext6:arm64.\n",
      "Preparing to unpack .../07-libxext6_2%3a1.3.4-1build1_arm64.deb ...\n",
      "Unpacking libxext6:arm64 (2:1.3.4-1build1) ...\n",
      "Selecting previously unselected package fontconfig.\n",
      "Preparing to unpack .../08-fontconfig_2.13.1-4.2ubuntu5_arm64.deb ...\n",
      "Unpacking fontconfig (2.13.1-4.2ubuntu5) ...\n",
      "Selecting previously unselected package libarchive13:arm64.\n",
      "Preparing to unpack .../09-libarchive13_3.6.0-1ubuntu1_arm64.deb ...\n",
      "Unpacking libarchive13:arm64 (3.6.0-1ubuntu1) ...\n",
      "Selecting previously unselected package libpixman-1-0:arm64.\n",
      "Preparing to unpack .../10-libpixman-1-0_0.40.0-1ubuntu0.22.04.1_arm64.deb ...\n",
      "Unpacking libpixman-1-0:arm64 (0.40.0-1ubuntu0.22.04.1) ...\n",
      "Selecting previously unselected package libxcb-render0:arm64.\n",
      "Preparing to unpack .../11-libxcb-render0_1.14-3ubuntu3_arm64.deb ...\n",
      "Unpacking libxcb-render0:arm64 (1.14-3ubuntu3) ...\n",
      "Selecting previously unselected package libxcb-shm0:arm64.\n",
      "Preparing to unpack .../12-libxcb-shm0_1.14-3ubuntu3_arm64.deb ...\n",
      "Unpacking libxcb-shm0:arm64 (1.14-3ubuntu3) ...\n",
      "Selecting previously unselected package libxrender1:arm64.\n",
      "Preparing to unpack .../13-libxrender1_1%3a0.9.10-1build4_arm64.deb ...\n",
      "Unpacking libxrender1:arm64 (1:0.9.10-1build4) ...\n",
      "Selecting previously unselected package libcairo2:arm64.\n",
      "Preparing to unpack .../14-libcairo2_1.16.0-5ubuntu2_arm64.deb ...\n",
      "Unpacking libcairo2:arm64 (1.16.0-5ubuntu2) ...\n",
      "Selecting previously unselected package libdatrie1:arm64.\n",
      "Preparing to unpack .../15-libdatrie1_0.2.13-2_arm64.deb ...\n",
      "Unpacking libdatrie1:arm64 (0.2.13-2) ...\n",
      "Selecting previously unselected package libgif7:arm64.\n",
      "Preparing to unpack .../16-libgif7_5.1.9-2build2_arm64.deb ...\n",
      "Unpacking libgif7:arm64 (5.1.9-2build2) ...\n",
      "Selecting previously unselected package libgraphite2-3:arm64.\n",
      "Preparing to unpack .../17-libgraphite2-3_1.3.14-1build2_arm64.deb ...\n",
      "Unpacking libgraphite2-3:arm64 (1.3.14-1build2) ...\n",
      "Selecting previously unselected package libharfbuzz0b:arm64.\n",
      "Preparing to unpack .../18-libharfbuzz0b_2.7.4-1ubuntu3.1_arm64.deb ...\n",
      "Unpacking libharfbuzz0b:arm64 (2.7.4-1ubuntu3.1) ...\n",
      "Selecting previously unselected package libopenjp2-7:arm64.\n",
      "Preparing to unpack .../19-libopenjp2-7_2.4.0-6_arm64.deb ...\n",
      "Unpacking libopenjp2-7:arm64 (2.4.0-6) ...\n",
      "Selecting previously unselected package libwebpmux3:arm64.\n",
      "Preparing to unpack .../20-libwebpmux3_1.2.2-2ubuntu0.22.04.1_arm64.deb ...\n",
      "Unpacking libwebpmux3:arm64 (1.2.2-2ubuntu0.22.04.1) ...\n",
      "Selecting previously unselected package liblept5:arm64.\n",
      "Preparing to unpack .../21-liblept5_1.82.0-3build1_arm64.deb ...\n",
      "Unpacking liblept5:arm64 (1.82.0-3build1) ...\n",
      "Selecting previously unselected package libthai-data.\n",
      "Preparing to unpack .../22-libthai-data_0.1.29-1build1_all.deb ...\n",
      "Unpacking libthai-data (0.1.29-1build1) ...\n",
      "Selecting previously unselected package libthai0:arm64.\n",
      "Preparing to unpack .../23-libthai0_0.1.29-1build1_arm64.deb ...\n",
      "Unpacking libthai0:arm64 (0.1.29-1build1) ...\n",
      "Selecting previously unselected package libpango-1.0-0:arm64.\n",
      "Preparing to unpack .../24-libpango-1.0-0_1.50.6+ds-2ubuntu1_arm64.deb ...\n",
      "Unpacking libpango-1.0-0:arm64 (1.50.6+ds-2ubuntu1) ...\n",
      "Selecting previously unselected package libpangoft2-1.0-0:arm64.\n",
      "Preparing to unpack .../25-libpangoft2-1.0-0_1.50.6+ds-2ubuntu1_arm64.deb ...\n",
      "Unpacking libpangoft2-1.0-0:arm64 (1.50.6+ds-2ubuntu1) ...\n",
      "Selecting previously unselected package libpangocairo-1.0-0:arm64.\n",
      "Preparing to unpack .../26-libpangocairo-1.0-0_1.50.6+ds-2ubuntu1_arm64.deb ...\n",
      "Unpacking libpangocairo-1.0-0:arm64 (1.50.6+ds-2ubuntu1) ...\n",
      "Selecting previously unselected package libtesseract4:arm64.\n",
      "Preparing to unpack .../27-libtesseract4_4.1.1-2.1build1_arm64.deb ...\n",
      "Unpacking libtesseract4:arm64 (4.1.1-2.1build1) ...\n",
      "Selecting previously unselected package tesseract-ocr-eng.\n",
      "Preparing to unpack .../28-tesseract-ocr-eng_1%3a4.00~git30-7274cfa-1.1_all.deb ...\n",
      "Unpacking tesseract-ocr-eng (1:4.00~git30-7274cfa-1.1) ...\n",
      "Selecting previously unselected package tesseract-ocr-osd.\n",
      "Preparing to unpack .../29-tesseract-ocr-osd_1%3a4.00~git30-7274cfa-1.1_all.deb ...\n",
      "Unpacking tesseract-ocr-osd (1:4.00~git30-7274cfa-1.1) ...\n",
      "Selecting previously unselected package tesseract-ocr.\n",
      "Preparing to unpack .../30-tesseract-ocr_4.1.1-2.1build1_arm64.deb ...\n",
      "Unpacking tesseract-ocr (4.1.1-2.1build1) ...\n",
      "Setting up libgraphite2-3:arm64 (1.3.14-1build2) ...\n",
      "Setting up libpixman-1-0:arm64 (0.40.0-1ubuntu0.22.04.1) ...\n",
      "Setting up fontconfig (2.13.1-4.2ubuntu5) ...\n",
      "Regenerating fonts cache... done.\n",
      "Setting up libxrender1:arm64 (1:0.9.10-1build4) ...\n",
      "Setting up libdatrie1:arm64 (0.2.13-2) ...\n",
      "Setting up xdg-user-dirs (0.17-2ubuntu4) ...\n",
      "Setting up libxcb-render0:arm64 (1.14-3ubuntu3) ...\n",
      "Setting up libglib2.0-0:arm64 (2.72.4-0ubuntu2.2) ...\n",
      "No schema files found: doing nothing.\n",
      "Setting up libxext6:arm64 (2:1.3.4-1build1) ...\n",
      "Setting up tesseract-ocr-eng (1:4.00~git30-7274cfa-1.1) ...\n",
      "Setting up libxcb-shm0:arm64 (1.14-3ubuntu3) ...\n",
      "Setting up libcairo2:arm64 (1.16.0-5ubuntu2) ...\n",
      "Setting up libglib2.0-data (2.72.4-0ubuntu2.2) ...\n",
      "Setting up libfribidi0:arm64 (1.0.8-2ubuntu3.1) ...\n",
      "Setting up libgif7:arm64 (5.1.9-2build2) ...\n",
      "Setting up libopenjp2-7:arm64 (2.4.0-6) ...\n",
      "Setting up libharfbuzz0b:arm64 (2.7.4-1ubuntu3.1) ...\n",
      "Setting up libthai-data (0.1.29-1build1) ...\n",
      "Setting up tesseract-ocr-osd (1:4.00~git30-7274cfa-1.1) ...\n",
      "Setting up libwebpmux3:arm64 (1.2.2-2ubuntu0.22.04.1) ...\n",
      "Setting up libicu70:arm64 (70.1-2) ...\n",
      "Setting up liblept5:arm64 (1.82.0-3build1) ...\n",
      "Setting up libthai0:arm64 (0.1.29-1build1) ...\n",
      "Setting up libxml2:arm64 (2.9.13+dfsg-1ubuntu0.3) ...\n",
      "Setting up libarchive13:arm64 (3.6.0-1ubuntu1) ...\n",
      "Setting up libpango-1.0-0:arm64 (1.50.6+ds-2ubuntu1) ...\n",
      "Setting up shared-mime-info (2.1-2) ...\n",
      "Setting up libtesseract4:arm64 (4.1.1-2.1build1) ...\n",
      "Setting up libpangoft2-1.0-0:arm64 (1.50.6+ds-2ubuntu1) ...\n",
      "Setting up libpangocairo-1.0-0:arm64 (1.50.6+ds-2ubuntu1) ...\n",
      "Setting up tesseract-ocr (4.1.1-2.1build1) ...\n",
      "Processing triggers for libc-bin (2.35-0ubuntu3.1) ...\n"
     ]
    }
   ],
   "source": [
    "!apt-get install tesseract-ocr -y"
   ]
  },
  {
   "cell_type": "code",
   "execution_count": 9,
   "id": "54b2e9d3",
   "metadata": {},
   "outputs": [
    {
     "name": "stdout",
     "output_type": "stream",
     "text": [
      " \n",
      "\f",
      "\n"
     ]
    }
   ],
   "source": [
    "import pytesseract\n",
    "from PIL import Image\n",
    "def ocr_from_image(file_name):\n",
    "        #open the image file\n",
    "        image=Image.open(file_name)\n",
    "\n",
    "        #perform OCR using pytesseract\n",
    "        ocr_text= pytesseract.image_to_string(image)\n",
    "\n",
    "        #return ocr text\n",
    "        return ocr_text\n",
    "    \n",
    "file_name=\"/media/anisha.png\"\n",
    "result=ocr_from_image(file_name)\n",
    "print(result)"
   ]
  },
  {
   "cell_type": "code",
   "execution_count": 10,
   "id": "5e028d82",
   "metadata": {},
   "outputs": [
    {
     "name": "stdout",
     "output_type": "stream",
     "text": [
      "Requirement already satisfied: pytesseract in /usr/local/lib/python3.10/dist-packages (0.3.10)\n",
      "Requirement already satisfied: pillow in /usr/local/lib/python3.10/dist-packages (10.0.0)\n",
      "Requirement already satisfied: packaging>=21.3 in /usr/local/lib/python3.10/dist-packages (from pytesseract) (23.1)\n",
      "\u001b[33mWARNING: Running pip as the 'root' user can result in broken permissions and conflicting behaviour with the system package manager. It is recommended to use a virtual environment instead: https://pip.pypa.io/warnings/venv\u001b[0m\u001b[33m\n",
      "\u001b[0m"
     ]
    }
   ],
   "source": [
    "!pip install pytesseract pillow"
   ]
  },
  {
   "cell_type": "code",
   "execution_count": 11,
   "id": "59412f62",
   "metadata": {},
   "outputs": [
    {
     "name": "stdout",
     "output_type": "stream",
     "text": [
      "Reading package lists... Done\n",
      "Building dependency tree... Done\n",
      "Reading state information... Done\n",
      "tesseract-ocr is already the newest version (4.1.1-2.1build1).\n",
      "0 upgraded, 0 newly installed, 0 to remove and 0 not upgraded.\n"
     ]
    }
   ],
   "source": [
    "!apt-get install tesseract-ocr"
   ]
  },
  {
   "cell_type": "code",
   "execution_count": 12,
   "id": "07a38ed7",
   "metadata": {},
   "outputs": [
    {
     "ename": "UnidentifiedImageError",
     "evalue": "cannot identify image file '/media/ocr.dmg'",
     "output_type": "error",
     "traceback": [
      "\u001b[0;31m---------------------------------------------------------------------------\u001b[0m",
      "\u001b[0;31mUnidentifiedImageError\u001b[0m                    Traceback (most recent call last)",
      "Cell \u001b[0;32mIn[12], line 14\u001b[0m\n\u001b[1;32m     11\u001b[0m         \u001b[38;5;28;01mreturn\u001b[39;00m ocr_text\n\u001b[1;32m     13\u001b[0m file_name\u001b[38;5;241m=\u001b[39m\u001b[38;5;124m\"\u001b[39m\u001b[38;5;124m/media/ocr.dmg\u001b[39m\u001b[38;5;124m\"\u001b[39m\n\u001b[0;32m---> 14\u001b[0m result\u001b[38;5;241m=\u001b[39m\u001b[43mocr_from_image\u001b[49m\u001b[43m(\u001b[49m\u001b[43mfile_name\u001b[49m\u001b[43m)\u001b[49m\n\u001b[1;32m     15\u001b[0m \u001b[38;5;28mprint\u001b[39m(result)\n",
      "Cell \u001b[0;32mIn[12], line 5\u001b[0m, in \u001b[0;36mocr_from_image\u001b[0;34m(file_name)\u001b[0m\n\u001b[1;32m      3\u001b[0m \u001b[38;5;28;01mdef\u001b[39;00m \u001b[38;5;21mocr_from_image\u001b[39m(file_name):\n\u001b[1;32m      4\u001b[0m         \u001b[38;5;66;03m#open the image file\u001b[39;00m\n\u001b[0;32m----> 5\u001b[0m         image\u001b[38;5;241m=\u001b[39m\u001b[43mImage\u001b[49m\u001b[38;5;241;43m.\u001b[39;49m\u001b[43mopen\u001b[49m\u001b[43m(\u001b[49m\u001b[43mfile_name\u001b[49m\u001b[43m)\u001b[49m\n\u001b[1;32m      7\u001b[0m         \u001b[38;5;66;03m#perform OCR using pytesseract\u001b[39;00m\n\u001b[1;32m      8\u001b[0m         ocr_text\u001b[38;5;241m=\u001b[39m pytesseract\u001b[38;5;241m.\u001b[39mimage_to_string(image)\n",
      "File \u001b[0;32m/usr/local/lib/python3.10/dist-packages/PIL/Image.py:3280\u001b[0m, in \u001b[0;36mopen\u001b[0;34m(fp, mode, formats)\u001b[0m\n\u001b[1;32m   3278\u001b[0m     warnings\u001b[38;5;241m.\u001b[39mwarn(message)\n\u001b[1;32m   3279\u001b[0m msg \u001b[38;5;241m=\u001b[39m \u001b[38;5;124m\"\u001b[39m\u001b[38;5;124mcannot identify image file \u001b[39m\u001b[38;5;132;01m%r\u001b[39;00m\u001b[38;5;124m\"\u001b[39m \u001b[38;5;241m%\u001b[39m (filename \u001b[38;5;28;01mif\u001b[39;00m filename \u001b[38;5;28;01melse\u001b[39;00m fp)\n\u001b[0;32m-> 3280\u001b[0m \u001b[38;5;28;01mraise\u001b[39;00m UnidentifiedImageError(msg)\n",
      "\u001b[0;31mUnidentifiedImageError\u001b[0m: cannot identify image file '/media/ocr.dmg'"
     ]
    }
   ],
   "source": [
    "import pytesseract\n",
    "from PIL import Image\n",
    "def ocr_from_image(file_name):\n",
    "        #open the image file\n",
    "        image=Image.open(file_name)\n",
    "\n",
    "        #perform OCR using pytesseract\n",
    "        ocr_text= pytesseract.image_to_string(image)\n",
    "\n",
    "        #return ocr text\n",
    "        return ocr_text\n",
    "    \n",
    "file_name=\"/media/ocr.dmg\"\n",
    "result=ocr_from_image(file_name)\n",
    "print(result)"
   ]
  },
  {
   "cell_type": "code",
   "execution_count": 13,
   "id": "3b2184b6",
   "metadata": {},
   "outputs": [
    {
     "name": "stdout",
     "output_type": "stream",
     "text": [
      "ANISHA.G\n",
      "\n",
      " \n",
      "\n",
      "CONTACT CAREER OBJECTIVE\n",
      "Phone | am seeking a role in a company where | can contribute my ideas and be\n",
      "9597023479 mentored towards a successful career.\n",
      "Address\n",
      "12/3 Gandhiji Street, Madukkarai\n",
      "Market,Coimbatore-641105. EDUCATIONAL QUALIFICATION\n",
      "Email Bachelor of Technology in Information Technology 8.39 CGPA\n",
      "anishaganesan82@gmail.com Rathinam technical campus , Anna University 2024\n",
      "Linkedin Higher Secondary Certificate - Computer Science Major 80.33%\n",
      "AnishaGanesan Presentation Convent Matriculation Higher Secondary 2020\n",
      "School | State Board | Coimbatore\n",
      "Secondary School Leaving Certificate 90%\n",
      "\n",
      "TECHNICAL SKILLS Presentation Convent Matriculation Higher Secondary 2018\n",
      "\n",
      "eC School | State Board | Coimbatore\n",
      "\n",
      "¢ PYTHON\n",
      "\n",
      "© JAVA\n",
      "\n",
      "e¢ sat\n",
      "\n",
      "© HTML PROJECTS\n",
      "\n",
      "© css Online Multi Farming .\n",
      "\n",
      "¢ DATA STRUCTURES\n",
      "\n",
      "© It is used to design and develop the web application package for well\n",
      "\n",
      "CERTIFICATIONS . m Pe Paes\n",
      "\n",
      "secured dynamic application\n",
      "* In this application, the agent help the farmers to market their products\n",
      "to online for reliable price.\n",
      "\n",
      "* Master class on python\n",
      "programming from Pantech e\n",
      "learning (30 Days of course)\n",
      "\n",
      "* Cloud Solutions Architect\n",
      "from Future Skills\n",
      "\n",
      "* Introduction To |OT from DECLARATION\n",
      "\n",
      "CISCO.\n",
      "« All the details furnished above are true to my knowledge and belief.\n",
      "\n",
      "SOFT SKILLS\n",
      "\n",
      "*® Good Communication skills\n",
      "¢ Team Working skills\n",
      "Leadership skills\n",
      "\n",
      "LANGUAGES\n",
      "© Tamil\n",
      "© English\n",
      "\n",
      " \n",
      "\f",
      "\n"
     ]
    }
   ],
   "source": [
    "import pytesseract\n",
    "from PIL import Image\n",
    "def ocr_from_image(file_name):\n",
    "        #open the image file\n",
    "        image=Image.open(file_name)\n",
    "\n",
    "        #perform OCR using pytesseract\n",
    "        ocr_text= pytesseract.image_to_string(image)\n",
    "\n",
    "        #return ocr text\n",
    "        return ocr_text\n",
    "    \n",
    "file_name=\"/media/ocr.jpg\"\n",
    "result=ocr_from_image(file_name)\n",
    "print(result)"
   ]
  },
  {
   "cell_type": "code",
   "execution_count": null,
   "id": "45c55e1a",
   "metadata": {},
   "outputs": [],
   "source": []
  }
 ],
 "metadata": {
  "kernelspec": {
   "display_name": "Python 3 (ipykernel)",
   "language": "python",
   "name": "python3"
  },
  "language_info": {
   "codemirror_mode": {
    "name": "ipython",
    "version": 3
   },
   "file_extension": ".py",
   "mimetype": "text/x-python",
   "name": "python",
   "nbconvert_exporter": "python",
   "pygments_lexer": "ipython3",
   "version": "3.10.6"
  }
 },
 "nbformat": 4,
 "nbformat_minor": 5
}
